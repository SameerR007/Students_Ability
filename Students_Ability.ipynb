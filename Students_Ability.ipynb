{
  "nbformat": 4,
  "nbformat_minor": 0,
  "metadata": {
    "colab": {
      "provenance": [],
      "authorship_tag": "ABX9TyMo1RW5mcuIdO8gmI8apgYa",
      "include_colab_link": true
    },
    "kernelspec": {
      "name": "python3",
      "display_name": "Python 3"
    },
    "language_info": {
      "name": "python"
    }
  },
  "cells": [
    {
      "cell_type": "markdown",
      "metadata": {
        "id": "view-in-github",
        "colab_type": "text"
      },
      "source": [
        "<a href=\"https://colab.research.google.com/github/SameerR007/Students_Ability/blob/main/Students_Ability.ipynb\" target=\"_parent\"><img src=\"https://colab.research.google.com/assets/colab-badge.svg\" alt=\"Open In Colab\"/></a>"
      ]
    },
    {
      "cell_type": "markdown",
      "source": [
        "##Performing K-means cluster to get the idea about the ability of a student to get into our course."
      ],
      "metadata": {
        "id": "REhpy5gLQwfC"
      }
    },
    {
      "cell_type": "markdown",
      "source": [
        "#Importing libraries"
      ],
      "metadata": {
        "id": "n-U9o-3GMReR"
      }
    },
    {
      "cell_type": "code",
      "source": [
        "import pandas as pd\n",
        "import seaborn as sns\n",
        "from sklearn.cluster import KMeans\n",
        "from sklearn import preprocessing\n",
        "from matplotlib import pyplot as plt"
      ],
      "metadata": {
        "id": "w76SGqCwOvzP"
      },
      "execution_count": null,
      "outputs": []
    },
    {
      "cell_type": "markdown",
      "source": [
        "#Uploading files"
      ],
      "metadata": {
        "id": "N2XrP7JxMXvs"
      }
    },
    {
      "cell_type": "code",
      "execution_count": null,
      "metadata": {
        "colab": {
          "base_uri": "https://localhost:8080/",
          "height": 73
        },
        "id": "_lRm0DuvIs4R",
        "outputId": "2d068a35-3b74-46b4-f81e-df4f25d381cf"
      },
      "outputs": [
        {
          "output_type": "display_data",
          "data": {
            "text/plain": [
              "<IPython.core.display.HTML object>"
            ],
            "text/html": [
              "\n",
              "     <input type=\"file\" id=\"files-cd51986a-9e87-473d-aab5-77863e4708d9\" name=\"files[]\" multiple disabled\n",
              "        style=\"border:none\" />\n",
              "     <output id=\"result-cd51986a-9e87-473d-aab5-77863e4708d9\">\n",
              "      Upload widget is only available when the cell has been executed in the\n",
              "      current browser session. Please rerun this cell to enable.\n",
              "      </output>\n",
              "      <script>// Copyright 2017 Google LLC\n",
              "//\n",
              "// Licensed under the Apache License, Version 2.0 (the \"License\");\n",
              "// you may not use this file except in compliance with the License.\n",
              "// You may obtain a copy of the License at\n",
              "//\n",
              "//      http://www.apache.org/licenses/LICENSE-2.0\n",
              "//\n",
              "// Unless required by applicable law or agreed to in writing, software\n",
              "// distributed under the License is distributed on an \"AS IS\" BASIS,\n",
              "// WITHOUT WARRANTIES OR CONDITIONS OF ANY KIND, either express or implied.\n",
              "// See the License for the specific language governing permissions and\n",
              "// limitations under the License.\n",
              "\n",
              "/**\n",
              " * @fileoverview Helpers for google.colab Python module.\n",
              " */\n",
              "(function(scope) {\n",
              "function span(text, styleAttributes = {}) {\n",
              "  const element = document.createElement('span');\n",
              "  element.textContent = text;\n",
              "  for (const key of Object.keys(styleAttributes)) {\n",
              "    element.style[key] = styleAttributes[key];\n",
              "  }\n",
              "  return element;\n",
              "}\n",
              "\n",
              "// Max number of bytes which will be uploaded at a time.\n",
              "const MAX_PAYLOAD_SIZE = 100 * 1024;\n",
              "\n",
              "function _uploadFiles(inputId, outputId) {\n",
              "  const steps = uploadFilesStep(inputId, outputId);\n",
              "  const outputElement = document.getElementById(outputId);\n",
              "  // Cache steps on the outputElement to make it available for the next call\n",
              "  // to uploadFilesContinue from Python.\n",
              "  outputElement.steps = steps;\n",
              "\n",
              "  return _uploadFilesContinue(outputId);\n",
              "}\n",
              "\n",
              "// This is roughly an async generator (not supported in the browser yet),\n",
              "// where there are multiple asynchronous steps and the Python side is going\n",
              "// to poll for completion of each step.\n",
              "// This uses a Promise to block the python side on completion of each step,\n",
              "// then passes the result of the previous step as the input to the next step.\n",
              "function _uploadFilesContinue(outputId) {\n",
              "  const outputElement = document.getElementById(outputId);\n",
              "  const steps = outputElement.steps;\n",
              "\n",
              "  const next = steps.next(outputElement.lastPromiseValue);\n",
              "  return Promise.resolve(next.value.promise).then((value) => {\n",
              "    // Cache the last promise value to make it available to the next\n",
              "    // step of the generator.\n",
              "    outputElement.lastPromiseValue = value;\n",
              "    return next.value.response;\n",
              "  });\n",
              "}\n",
              "\n",
              "/**\n",
              " * Generator function which is called between each async step of the upload\n",
              " * process.\n",
              " * @param {string} inputId Element ID of the input file picker element.\n",
              " * @param {string} outputId Element ID of the output display.\n",
              " * @return {!Iterable<!Object>} Iterable of next steps.\n",
              " */\n",
              "function* uploadFilesStep(inputId, outputId) {\n",
              "  const inputElement = document.getElementById(inputId);\n",
              "  inputElement.disabled = false;\n",
              "\n",
              "  const outputElement = document.getElementById(outputId);\n",
              "  outputElement.innerHTML = '';\n",
              "\n",
              "  const pickedPromise = new Promise((resolve) => {\n",
              "    inputElement.addEventListener('change', (e) => {\n",
              "      resolve(e.target.files);\n",
              "    });\n",
              "  });\n",
              "\n",
              "  const cancel = document.createElement('button');\n",
              "  inputElement.parentElement.appendChild(cancel);\n",
              "  cancel.textContent = 'Cancel upload';\n",
              "  const cancelPromise = new Promise((resolve) => {\n",
              "    cancel.onclick = () => {\n",
              "      resolve(null);\n",
              "    };\n",
              "  });\n",
              "\n",
              "  // Wait for the user to pick the files.\n",
              "  const files = yield {\n",
              "    promise: Promise.race([pickedPromise, cancelPromise]),\n",
              "    response: {\n",
              "      action: 'starting',\n",
              "    }\n",
              "  };\n",
              "\n",
              "  cancel.remove();\n",
              "\n",
              "  // Disable the input element since further picks are not allowed.\n",
              "  inputElement.disabled = true;\n",
              "\n",
              "  if (!files) {\n",
              "    return {\n",
              "      response: {\n",
              "        action: 'complete',\n",
              "      }\n",
              "    };\n",
              "  }\n",
              "\n",
              "  for (const file of files) {\n",
              "    const li = document.createElement('li');\n",
              "    li.append(span(file.name, {fontWeight: 'bold'}));\n",
              "    li.append(span(\n",
              "        `(${file.type || 'n/a'}) - ${file.size} bytes, ` +\n",
              "        `last modified: ${\n",
              "            file.lastModifiedDate ? file.lastModifiedDate.toLocaleDateString() :\n",
              "                                    'n/a'} - `));\n",
              "    const percent = span('0% done');\n",
              "    li.appendChild(percent);\n",
              "\n",
              "    outputElement.appendChild(li);\n",
              "\n",
              "    const fileDataPromise = new Promise((resolve) => {\n",
              "      const reader = new FileReader();\n",
              "      reader.onload = (e) => {\n",
              "        resolve(e.target.result);\n",
              "      };\n",
              "      reader.readAsArrayBuffer(file);\n",
              "    });\n",
              "    // Wait for the data to be ready.\n",
              "    let fileData = yield {\n",
              "      promise: fileDataPromise,\n",
              "      response: {\n",
              "        action: 'continue',\n",
              "      }\n",
              "    };\n",
              "\n",
              "    // Use a chunked sending to avoid message size limits. See b/62115660.\n",
              "    let position = 0;\n",
              "    do {\n",
              "      const length = Math.min(fileData.byteLength - position, MAX_PAYLOAD_SIZE);\n",
              "      const chunk = new Uint8Array(fileData, position, length);\n",
              "      position += length;\n",
              "\n",
              "      const base64 = btoa(String.fromCharCode.apply(null, chunk));\n",
              "      yield {\n",
              "        response: {\n",
              "          action: 'append',\n",
              "          file: file.name,\n",
              "          data: base64,\n",
              "        },\n",
              "      };\n",
              "\n",
              "      let percentDone = fileData.byteLength === 0 ?\n",
              "          100 :\n",
              "          Math.round((position / fileData.byteLength) * 100);\n",
              "      percent.textContent = `${percentDone}% done`;\n",
              "\n",
              "    } while (position < fileData.byteLength);\n",
              "  }\n",
              "\n",
              "  // All done.\n",
              "  yield {\n",
              "    response: {\n",
              "      action: 'complete',\n",
              "    }\n",
              "  };\n",
              "}\n",
              "\n",
              "scope.google = scope.google || {};\n",
              "scope.google.colab = scope.google.colab || {};\n",
              "scope.google.colab._files = {\n",
              "  _uploadFiles,\n",
              "  _uploadFilesContinue,\n",
              "};\n",
              "})(self);\n",
              "</script> "
            ]
          },
          "metadata": {}
        },
        {
          "output_type": "stream",
          "name": "stdout",
          "text": [
            "Saving DUET Data - Copy.xlsx to DUET Data - Copy.xlsx\n"
          ]
        }
      ],
      "source": [
        "from google.colab import files\n",
        "data=files.upload()"
      ]
    },
    {
      "cell_type": "markdown",
      "source": [
        "#Reading files"
      ],
      "metadata": {
        "id": "-fNv0aVeMoif"
      }
    },
    {
      "cell_type": "code",
      "source": [
        "data=pd.read_excel(\"DUET Data - Copy.xlsx\")"
      ],
      "metadata": {
        "id": "EsY_YpBUJ85i"
      },
      "execution_count": null,
      "outputs": []
    },
    {
      "cell_type": "code",
      "source": [
        "data.head()"
      ],
      "metadata": {
        "colab": {
          "base_uri": "https://localhost:8080/",
          "height": 206
        },
        "id": "seKZ7v4vKbsM",
        "outputId": "204b9fb5-1431-43ae-b10c-0f74ff1d315c"
      },
      "execution_count": null,
      "outputs": [
        {
          "output_type": "execute_result",
          "data": {
            "text/plain": [
              "   Unnamed: 0  Entrance Marks    Category  Year  Graduation Marks\n",
              "0         NaN             165  Unreserved  2022             93.50\n",
              "1         NaN             163  Unreserved  2022             91.15\n",
              "2         NaN             163  Unreserved  2022             85.80\n",
              "3         NaN             161  Unreserved  2022             88.32\n",
              "4         NaN             153  Unreserved  2022             80.56"
            ],
            "text/html": [
              "\n",
              "  <div id=\"df-0056e8f1-35a1-4d1f-bb51-efdb3200b6bb\">\n",
              "    <div class=\"colab-df-container\">\n",
              "      <div>\n",
              "<style scoped>\n",
              "    .dataframe tbody tr th:only-of-type {\n",
              "        vertical-align: middle;\n",
              "    }\n",
              "\n",
              "    .dataframe tbody tr th {\n",
              "        vertical-align: top;\n",
              "    }\n",
              "\n",
              "    .dataframe thead th {\n",
              "        text-align: right;\n",
              "    }\n",
              "</style>\n",
              "<table border=\"1\" class=\"dataframe\">\n",
              "  <thead>\n",
              "    <tr style=\"text-align: right;\">\n",
              "      <th></th>\n",
              "      <th>Unnamed: 0</th>\n",
              "      <th>Entrance Marks</th>\n",
              "      <th>Category</th>\n",
              "      <th>Year</th>\n",
              "      <th>Graduation Marks</th>\n",
              "    </tr>\n",
              "  </thead>\n",
              "  <tbody>\n",
              "    <tr>\n",
              "      <th>0</th>\n",
              "      <td>NaN</td>\n",
              "      <td>165</td>\n",
              "      <td>Unreserved</td>\n",
              "      <td>2022</td>\n",
              "      <td>93.50</td>\n",
              "    </tr>\n",
              "    <tr>\n",
              "      <th>1</th>\n",
              "      <td>NaN</td>\n",
              "      <td>163</td>\n",
              "      <td>Unreserved</td>\n",
              "      <td>2022</td>\n",
              "      <td>91.15</td>\n",
              "    </tr>\n",
              "    <tr>\n",
              "      <th>2</th>\n",
              "      <td>NaN</td>\n",
              "      <td>163</td>\n",
              "      <td>Unreserved</td>\n",
              "      <td>2022</td>\n",
              "      <td>85.80</td>\n",
              "    </tr>\n",
              "    <tr>\n",
              "      <th>3</th>\n",
              "      <td>NaN</td>\n",
              "      <td>161</td>\n",
              "      <td>Unreserved</td>\n",
              "      <td>2022</td>\n",
              "      <td>88.32</td>\n",
              "    </tr>\n",
              "    <tr>\n",
              "      <th>4</th>\n",
              "      <td>NaN</td>\n",
              "      <td>153</td>\n",
              "      <td>Unreserved</td>\n",
              "      <td>2022</td>\n",
              "      <td>80.56</td>\n",
              "    </tr>\n",
              "  </tbody>\n",
              "</table>\n",
              "</div>\n",
              "      <button class=\"colab-df-convert\" onclick=\"convertToInteractive('df-0056e8f1-35a1-4d1f-bb51-efdb3200b6bb')\"\n",
              "              title=\"Convert this dataframe to an interactive table.\"\n",
              "              style=\"display:none;\">\n",
              "        \n",
              "  <svg xmlns=\"http://www.w3.org/2000/svg\" height=\"24px\"viewBox=\"0 0 24 24\"\n",
              "       width=\"24px\">\n",
              "    <path d=\"M0 0h24v24H0V0z\" fill=\"none\"/>\n",
              "    <path d=\"M18.56 5.44l.94 2.06.94-2.06 2.06-.94-2.06-.94-.94-2.06-.94 2.06-2.06.94zm-11 1L8.5 8.5l.94-2.06 2.06-.94-2.06-.94L8.5 2.5l-.94 2.06-2.06.94zm10 10l.94 2.06.94-2.06 2.06-.94-2.06-.94-.94-2.06-.94 2.06-2.06.94z\"/><path d=\"M17.41 7.96l-1.37-1.37c-.4-.4-.92-.59-1.43-.59-.52 0-1.04.2-1.43.59L10.3 9.45l-7.72 7.72c-.78.78-.78 2.05 0 2.83L4 21.41c.39.39.9.59 1.41.59.51 0 1.02-.2 1.41-.59l7.78-7.78 2.81-2.81c.8-.78.8-2.07 0-2.86zM5.41 20L4 18.59l7.72-7.72 1.47 1.35L5.41 20z\"/>\n",
              "  </svg>\n",
              "      </button>\n",
              "      \n",
              "  <style>\n",
              "    .colab-df-container {\n",
              "      display:flex;\n",
              "      flex-wrap:wrap;\n",
              "      gap: 12px;\n",
              "    }\n",
              "\n",
              "    .colab-df-convert {\n",
              "      background-color: #E8F0FE;\n",
              "      border: none;\n",
              "      border-radius: 50%;\n",
              "      cursor: pointer;\n",
              "      display: none;\n",
              "      fill: #1967D2;\n",
              "      height: 32px;\n",
              "      padding: 0 0 0 0;\n",
              "      width: 32px;\n",
              "    }\n",
              "\n",
              "    .colab-df-convert:hover {\n",
              "      background-color: #E2EBFA;\n",
              "      box-shadow: 0px 1px 2px rgba(60, 64, 67, 0.3), 0px 1px 3px 1px rgba(60, 64, 67, 0.15);\n",
              "      fill: #174EA6;\n",
              "    }\n",
              "\n",
              "    [theme=dark] .colab-df-convert {\n",
              "      background-color: #3B4455;\n",
              "      fill: #D2E3FC;\n",
              "    }\n",
              "\n",
              "    [theme=dark] .colab-df-convert:hover {\n",
              "      background-color: #434B5C;\n",
              "      box-shadow: 0px 1px 3px 1px rgba(0, 0, 0, 0.15);\n",
              "      filter: drop-shadow(0px 1px 2px rgba(0, 0, 0, 0.3));\n",
              "      fill: #FFFFFF;\n",
              "    }\n",
              "  </style>\n",
              "\n",
              "      <script>\n",
              "        const buttonEl =\n",
              "          document.querySelector('#df-0056e8f1-35a1-4d1f-bb51-efdb3200b6bb button.colab-df-convert');\n",
              "        buttonEl.style.display =\n",
              "          google.colab.kernel.accessAllowed ? 'block' : 'none';\n",
              "\n",
              "        async function convertToInteractive(key) {\n",
              "          const element = document.querySelector('#df-0056e8f1-35a1-4d1f-bb51-efdb3200b6bb');\n",
              "          const dataTable =\n",
              "            await google.colab.kernel.invokeFunction('convertToInteractive',\n",
              "                                                     [key], {});\n",
              "          if (!dataTable) return;\n",
              "\n",
              "          const docLinkHtml = 'Like what you see? Visit the ' +\n",
              "            '<a target=\"_blank\" href=https://colab.research.google.com/notebooks/data_table.ipynb>data table notebook</a>'\n",
              "            + ' to learn more about interactive tables.';\n",
              "          element.innerHTML = '';\n",
              "          dataTable['output_type'] = 'display_data';\n",
              "          await google.colab.output.renderOutput(dataTable, element);\n",
              "          const docLink = document.createElement('div');\n",
              "          docLink.innerHTML = docLinkHtml;\n",
              "          element.appendChild(docLink);\n",
              "        }\n",
              "      </script>\n",
              "    </div>\n",
              "  </div>\n",
              "  "
            ]
          },
          "metadata": {},
          "execution_count": 6
        }
      ]
    },
    {
      "cell_type": "markdown",
      "source": [
        "We have an extra redundant column that is to be removed"
      ],
      "metadata": {
        "id": "ktr2_WquUvjG"
      }
    },
    {
      "cell_type": "code",
      "source": [
        "data=data.drop(['Unnamed: 0'], axis=1)"
      ],
      "metadata": {
        "id": "-Swv5LkILBV4"
      },
      "execution_count": null,
      "outputs": []
    },
    {
      "cell_type": "code",
      "source": [
        "data.head()"
      ],
      "metadata": {
        "colab": {
          "base_uri": "https://localhost:8080/",
          "height": 206
        },
        "id": "oLy56KJdLKxl",
        "outputId": "d4df3bb1-2cc0-45ec-8037-f5934b262a36"
      },
      "execution_count": null,
      "outputs": [
        {
          "output_type": "execute_result",
          "data": {
            "text/plain": [
              "   Entrance Marks    Category  Year  Graduation Marks\n",
              "0             165  Unreserved  2022             93.50\n",
              "1             163  Unreserved  2022             91.15\n",
              "2             163  Unreserved  2022             85.80\n",
              "3             161  Unreserved  2022             88.32\n",
              "4             153  Unreserved  2022             80.56"
            ],
            "text/html": [
              "\n",
              "  <div id=\"df-2524c573-12c7-4753-a41b-191854f3a636\">\n",
              "    <div class=\"colab-df-container\">\n",
              "      <div>\n",
              "<style scoped>\n",
              "    .dataframe tbody tr th:only-of-type {\n",
              "        vertical-align: middle;\n",
              "    }\n",
              "\n",
              "    .dataframe tbody tr th {\n",
              "        vertical-align: top;\n",
              "    }\n",
              "\n",
              "    .dataframe thead th {\n",
              "        text-align: right;\n",
              "    }\n",
              "</style>\n",
              "<table border=\"1\" class=\"dataframe\">\n",
              "  <thead>\n",
              "    <tr style=\"text-align: right;\">\n",
              "      <th></th>\n",
              "      <th>Entrance Marks</th>\n",
              "      <th>Category</th>\n",
              "      <th>Year</th>\n",
              "      <th>Graduation Marks</th>\n",
              "    </tr>\n",
              "  </thead>\n",
              "  <tbody>\n",
              "    <tr>\n",
              "      <th>0</th>\n",
              "      <td>165</td>\n",
              "      <td>Unreserved</td>\n",
              "      <td>2022</td>\n",
              "      <td>93.50</td>\n",
              "    </tr>\n",
              "    <tr>\n",
              "      <th>1</th>\n",
              "      <td>163</td>\n",
              "      <td>Unreserved</td>\n",
              "      <td>2022</td>\n",
              "      <td>91.15</td>\n",
              "    </tr>\n",
              "    <tr>\n",
              "      <th>2</th>\n",
              "      <td>163</td>\n",
              "      <td>Unreserved</td>\n",
              "      <td>2022</td>\n",
              "      <td>85.80</td>\n",
              "    </tr>\n",
              "    <tr>\n",
              "      <th>3</th>\n",
              "      <td>161</td>\n",
              "      <td>Unreserved</td>\n",
              "      <td>2022</td>\n",
              "      <td>88.32</td>\n",
              "    </tr>\n",
              "    <tr>\n",
              "      <th>4</th>\n",
              "      <td>153</td>\n",
              "      <td>Unreserved</td>\n",
              "      <td>2022</td>\n",
              "      <td>80.56</td>\n",
              "    </tr>\n",
              "  </tbody>\n",
              "</table>\n",
              "</div>\n",
              "      <button class=\"colab-df-convert\" onclick=\"convertToInteractive('df-2524c573-12c7-4753-a41b-191854f3a636')\"\n",
              "              title=\"Convert this dataframe to an interactive table.\"\n",
              "              style=\"display:none;\">\n",
              "        \n",
              "  <svg xmlns=\"http://www.w3.org/2000/svg\" height=\"24px\"viewBox=\"0 0 24 24\"\n",
              "       width=\"24px\">\n",
              "    <path d=\"M0 0h24v24H0V0z\" fill=\"none\"/>\n",
              "    <path d=\"M18.56 5.44l.94 2.06.94-2.06 2.06-.94-2.06-.94-.94-2.06-.94 2.06-2.06.94zm-11 1L8.5 8.5l.94-2.06 2.06-.94-2.06-.94L8.5 2.5l-.94 2.06-2.06.94zm10 10l.94 2.06.94-2.06 2.06-.94-2.06-.94-.94-2.06-.94 2.06-2.06.94z\"/><path d=\"M17.41 7.96l-1.37-1.37c-.4-.4-.92-.59-1.43-.59-.52 0-1.04.2-1.43.59L10.3 9.45l-7.72 7.72c-.78.78-.78 2.05 0 2.83L4 21.41c.39.39.9.59 1.41.59.51 0 1.02-.2 1.41-.59l7.78-7.78 2.81-2.81c.8-.78.8-2.07 0-2.86zM5.41 20L4 18.59l7.72-7.72 1.47 1.35L5.41 20z\"/>\n",
              "  </svg>\n",
              "      </button>\n",
              "      \n",
              "  <style>\n",
              "    .colab-df-container {\n",
              "      display:flex;\n",
              "      flex-wrap:wrap;\n",
              "      gap: 12px;\n",
              "    }\n",
              "\n",
              "    .colab-df-convert {\n",
              "      background-color: #E8F0FE;\n",
              "      border: none;\n",
              "      border-radius: 50%;\n",
              "      cursor: pointer;\n",
              "      display: none;\n",
              "      fill: #1967D2;\n",
              "      height: 32px;\n",
              "      padding: 0 0 0 0;\n",
              "      width: 32px;\n",
              "    }\n",
              "\n",
              "    .colab-df-convert:hover {\n",
              "      background-color: #E2EBFA;\n",
              "      box-shadow: 0px 1px 2px rgba(60, 64, 67, 0.3), 0px 1px 3px 1px rgba(60, 64, 67, 0.15);\n",
              "      fill: #174EA6;\n",
              "    }\n",
              "\n",
              "    [theme=dark] .colab-df-convert {\n",
              "      background-color: #3B4455;\n",
              "      fill: #D2E3FC;\n",
              "    }\n",
              "\n",
              "    [theme=dark] .colab-df-convert:hover {\n",
              "      background-color: #434B5C;\n",
              "      box-shadow: 0px 1px 3px 1px rgba(0, 0, 0, 0.15);\n",
              "      filter: drop-shadow(0px 1px 2px rgba(0, 0, 0, 0.3));\n",
              "      fill: #FFFFFF;\n",
              "    }\n",
              "  </style>\n",
              "\n",
              "      <script>\n",
              "        const buttonEl =\n",
              "          document.querySelector('#df-2524c573-12c7-4753-a41b-191854f3a636 button.colab-df-convert');\n",
              "        buttonEl.style.display =\n",
              "          google.colab.kernel.accessAllowed ? 'block' : 'none';\n",
              "\n",
              "        async function convertToInteractive(key) {\n",
              "          const element = document.querySelector('#df-2524c573-12c7-4753-a41b-191854f3a636');\n",
              "          const dataTable =\n",
              "            await google.colab.kernel.invokeFunction('convertToInteractive',\n",
              "                                                     [key], {});\n",
              "          if (!dataTable) return;\n",
              "\n",
              "          const docLinkHtml = 'Like what you see? Visit the ' +\n",
              "            '<a target=\"_blank\" href=https://colab.research.google.com/notebooks/data_table.ipynb>data table notebook</a>'\n",
              "            + ' to learn more about interactive tables.';\n",
              "          element.innerHTML = '';\n",
              "          dataTable['output_type'] = 'display_data';\n",
              "          await google.colab.output.renderOutput(dataTable, element);\n",
              "          const docLink = document.createElement('div');\n",
              "          docLink.innerHTML = docLinkHtml;\n",
              "          element.appendChild(docLink);\n",
              "        }\n",
              "      </script>\n",
              "    </div>\n",
              "  </div>\n",
              "  "
            ]
          },
          "metadata": {},
          "execution_count": 8
        }
      ]
    },
    {
      "cell_type": "code",
      "source": [
        "data.info()"
      ],
      "metadata": {
        "colab": {
          "base_uri": "https://localhost:8080/"
        },
        "id": "nhwAseotLW-0",
        "outputId": "d8df7222-3bf0-40bd-c8ff-17e7cca2177b"
      },
      "execution_count": null,
      "outputs": [
        {
          "output_type": "stream",
          "name": "stdout",
          "text": [
            "<class 'pandas.core.frame.DataFrame'>\n",
            "RangeIndex: 261 entries, 0 to 260\n",
            "Data columns (total 4 columns):\n",
            " #   Column            Non-Null Count  Dtype  \n",
            "---  ------            --------------  -----  \n",
            " 0   Entrance Marks    261 non-null    int64  \n",
            " 1   Category          261 non-null    object \n",
            " 2   Year              261 non-null    int64  \n",
            " 3   Graduation Marks  249 non-null    float64\n",
            "dtypes: float64(1), int64(2), object(1)\n",
            "memory usage: 8.3+ KB\n"
          ]
        }
      ]
    },
    {
      "cell_type": "code",
      "source": [
        "data.nunique()"
      ],
      "metadata": {
        "colab": {
          "base_uri": "https://localhost:8080/"
        },
        "id": "ta2NX1-_NvnY",
        "outputId": "99d88a37-7c84-4976-eb3a-de769725e8d8"
      },
      "execution_count": null,
      "outputs": [
        {
          "output_type": "execute_result",
          "data": {
            "text/plain": [
              "Entrance Marks      102\n",
              "Category              5\n",
              "Year                  5\n",
              "Graduation Marks    215\n",
              "dtype: int64"
            ]
          },
          "metadata": {},
          "execution_count": 10
        }
      ]
    },
    {
      "cell_type": "markdown",
      "source": [
        "We have four variables with Graduation marks and entrance marks being continous while year and category being categorical."
      ],
      "metadata": {
        "id": "pMzadspkVAOY"
      }
    },
    {
      "cell_type": "markdown",
      "source": [
        "#Handling null values"
      ],
      "metadata": {
        "id": "WxxYF1vjNMiL"
      }
    },
    {
      "cell_type": "code",
      "source": [
        "data.isnull().sum()"
      ],
      "metadata": {
        "colab": {
          "base_uri": "https://localhost:8080/"
        },
        "id": "JMXKGKdPd1Ga",
        "outputId": "0084dbf9-99d3-4e99-b0ee-43ff4601d33d"
      },
      "execution_count": null,
      "outputs": [
        {
          "output_type": "execute_result",
          "data": {
            "text/plain": [
              "Entrance Marks       0\n",
              "Category             0\n",
              "Year                 0\n",
              "Graduation Marks    12\n",
              "dtype: int64"
            ]
          },
          "metadata": {},
          "execution_count": 11
        }
      ]
    },
    {
      "cell_type": "code",
      "source": [
        "sns.heatmap(data.isnull(), cbar=False, yticklabels=False,cmap='viridis')"
      ],
      "metadata": {
        "colab": {
          "base_uri": "https://localhost:8080/",
          "height": 282
        },
        "id": "UFfZ_jPdNwHC",
        "outputId": "0af5d862-9e2c-4879-f260-4e9f30f9966d"
      },
      "execution_count": null,
      "outputs": [
        {
          "output_type": "execute_result",
          "data": {
            "text/plain": [
              "<AxesSubplot:>"
            ]
          },
          "metadata": {},
          "execution_count": 12
        },
        {
          "output_type": "display_data",
          "data": {
            "text/plain": [
              "<Figure size 432x288 with 1 Axes>"
            ],
            "image/png": "[encoded data removed]"
          },
          "metadata": {
            "needs_background": "light"
          }
        }
      ]
    },
    {
      "cell_type": "code",
      "source": [
        "len(data)"
      ],
      "metadata": {
        "colab": {
          "base_uri": "https://localhost:8080/"
        },
        "id": "vDYG0-vmhcqf",
        "outputId": "3362f8cb-5577-43f7-8946-02d350c91583"
      },
      "execution_count": null,
      "outputs": [
        {
          "output_type": "execute_result",
          "data": {
            "text/plain": [
              "261"
            ]
          },
          "metadata": {},
          "execution_count": 13
        }
      ]
    },
    {
      "cell_type": "code",
      "source": [
        "data=data.dropna()"
      ],
      "metadata": {
        "id": "NWXlYgSrd3ea"
      },
      "execution_count": null,
      "outputs": []
    },
    {
      "cell_type": "code",
      "source": [
        "data.isnull().sum()"
      ],
      "metadata": {
        "colab": {
          "base_uri": "https://localhost:8080/"
        },
        "id": "LWqQNecceP0v",
        "outputId": "2c9c2368-70c6-4c83-e40b-284759ff0055"
      },
      "execution_count": null,
      "outputs": [
        {
          "output_type": "execute_result",
          "data": {
            "text/plain": [
              "Entrance Marks      0\n",
              "Category            0\n",
              "Year                0\n",
              "Graduation Marks    0\n",
              "dtype: int64"
            ]
          },
          "metadata": {},
          "execution_count": 15
        }
      ]
    },
    {
      "cell_type": "code",
      "source": [
        "len(data)"
      ],
      "metadata": {
        "colab": {
          "base_uri": "https://localhost:8080/"
        },
        "id": "0Z7A41UOh34L",
        "outputId": "6bc6650d-3d74-4561-e699-2b6fb7c8054d"
      },
      "execution_count": null,
      "outputs": [
        {
          "output_type": "execute_result",
          "data": {
            "text/plain": [
              "249"
            ]
          },
          "metadata": {},
          "execution_count": 16
        }
      ]
    },
    {
      "cell_type": "markdown",
      "source": [
        "#Handling wrong data"
      ],
      "metadata": {
        "id": "LkZMAec2Nask"
      }
    },
    {
      "cell_type": "code",
      "source": [
        "data=data[data['Graduation Marks']>=50]\n",
        "data.head()"
      ],
      "metadata": {
        "colab": {
          "base_uri": "https://localhost:8080/",
          "height": 206
        },
        "id": "zSOxQO6bNb9t",
        "outputId": "6227a8a2-a743-4944-f009-b534ea457a83"
      },
      "execution_count": null,
      "outputs": [
        {
          "output_type": "execute_result",
          "data": {
            "text/plain": [
              "   Entrance Marks    Category  Year  Graduation Marks\n",
              "0             165  Unreserved  2022             93.50\n",
              "1             163  Unreserved  2022             91.15\n",
              "2             163  Unreserved  2022             85.80\n",
              "3             161  Unreserved  2022             88.32\n",
              "4             153  Unreserved  2022             80.56"
            ],
            "text/html": [
              "\n",
              "  <div id=\"df-29ff853a-9d9a-4264-9d2c-255b33afda46\">\n",
              "    <div class=\"colab-df-container\">\n",
              "      <div>\n",
              "<style scoped>\n",
              "    .dataframe tbody tr th:only-of-type {\n",
              "        vertical-align: middle;\n",
              "    }\n",
              "\n",
              "    .dataframe tbody tr th {\n",
              "        vertical-align: top;\n",
              "    }\n",
              "\n",
              "    .dataframe thead th {\n",
              "        text-align: right;\n",
              "    }\n",
              "</style>\n",
              "<table border=\"1\" class=\"dataframe\">\n",
              "  <thead>\n",
              "    <tr style=\"text-align: right;\">\n",
              "      <th></th>\n",
              "      <th>Entrance Marks</th>\n",
              "      <th>Category</th>\n",
              "      <th>Year</th>\n",
              "      <th>Graduation Marks</th>\n",
              "    </tr>\n",
              "  </thead>\n",
              "  <tbody>\n",
              "    <tr>\n",
              "      <th>0</th>\n",
              "      <td>165</td>\n",
              "      <td>Unreserved</td>\n",
              "      <td>2022</td>\n",
              "      <td>93.50</td>\n",
              "    </tr>\n",
              "    <tr>\n",
              "      <th>1</th>\n",
              "      <td>163</td>\n",
              "      <td>Unreserved</td>\n",
              "      <td>2022</td>\n",
              "      <td>91.15</td>\n",
              "    </tr>\n",
              "    <tr>\n",
              "      <th>2</th>\n",
              "      <td>163</td>\n",
              "      <td>Unreserved</td>\n",
              "      <td>2022</td>\n",
              "      <td>85.80</td>\n",
              "    </tr>\n",
              "    <tr>\n",
              "      <th>3</th>\n",
              "      <td>161</td>\n",
              "      <td>Unreserved</td>\n",
              "      <td>2022</td>\n",
              "      <td>88.32</td>\n",
              "    </tr>\n",
              "    <tr>\n",
              "      <th>4</th>\n",
              "      <td>153</td>\n",
              "      <td>Unreserved</td>\n",
              "      <td>2022</td>\n",
              "      <td>80.56</td>\n",
              "    </tr>\n",
              "  </tbody>\n",
              "</table>\n",
              "</div>\n",
              "      <button class=\"colab-df-convert\" onclick=\"convertToInteractive('df-29ff853a-9d9a-4264-9d2c-255b33afda46')\"\n",
              "              title=\"Convert this dataframe to an interactive table.\"\n",
              "              style=\"display:none;\">\n",
              "        \n",
              "  <svg xmlns=\"http://www.w3.org/2000/svg\" height=\"24px\"viewBox=\"0 0 24 24\"\n",
              "       width=\"24px\">\n",
              "    <path d=\"M0 0h24v24H0V0z\" fill=\"none\"/>\n",
              "    <path d=\"M18.56 5.44l.94 2.06.94-2.06 2.06-.94-2.06-.94-.94-2.06-.94 2.06-2.06.94zm-11 1L8.5 8.5l.94-2.06 2.06-.94-2.06-.94L8.5 2.5l-.94 2.06-2.06.94zm10 10l.94 2.06.94-2.06 2.06-.94-2.06-.94-.94-2.06-.94 2.06-2.06.94z\"/><path d=\"M17.41 7.96l-1.37-1.37c-.4-.4-.92-.59-1.43-.59-.52 0-1.04.2-1.43.59L10.3 9.45l-7.72 7.72c-.78.78-.78 2.05 0 2.83L4 21.41c.39.39.9.59 1.41.59.51 0 1.02-.2 1.41-.59l7.78-7.78 2.81-2.81c.8-.78.8-2.07 0-2.86zM5.41 20L4 18.59l7.72-7.72 1.47 1.35L5.41 20z\"/>\n",
              "  </svg>\n",
              "      </button>\n",
              "      \n",
              "  <style>\n",
              "    .colab-df-container {\n",
              "      display:flex;\n",
              "      flex-wrap:wrap;\n",
              "      gap: 12px;\n",
              "    }\n",
              "\n",
              "    .colab-df-convert {\n",
              "      background-color: #E8F0FE;\n",
              "      border: none;\n",
              "      border-radius: 50%;\n",
              "      cursor: pointer;\n",
              "      display: none;\n",
              "      fill: #1967D2;\n",
              "      height: 32px;\n",
              "      padding: 0 0 0 0;\n",
              "      width: 32px;\n",
              "    }\n",
              "\n",
              "    .colab-df-convert:hover {\n",
              "      background-color: #E2EBFA;\n",
              "      box-shadow: 0px 1px 2px rgba(60, 64, 67, 0.3), 0px 1px 3px 1px rgba(60, 64, 67, 0.15);\n",
              "      fill: #174EA6;\n",
              "    }\n",
              "\n",
              "    [theme=dark] .colab-df-convert {\n",
              "      background-color: #3B4455;\n",
              "      fill: #D2E3FC;\n",
              "    }\n",
              "\n",
              "    [theme=dark] .colab-df-convert:hover {\n",
              "      background-color: #434B5C;\n",
              "      box-shadow: 0px 1px 3px 1px rgba(0, 0, 0, 0.15);\n",
              "      filter: drop-shadow(0px 1px 2px rgba(0, 0, 0, 0.3));\n",
              "      fill: #FFFFFF;\n",
              "    }\n",
              "  </style>\n",
              "\n",
              "      <script>\n",
              "        const buttonEl =\n",
              "          document.querySelector('#df-29ff853a-9d9a-4264-9d2c-255b33afda46 button.colab-df-convert');\n",
              "        buttonEl.style.display =\n",
              "          google.colab.kernel.accessAllowed ? 'block' : 'none';\n",
              "\n",
              "        async function convertToInteractive(key) {\n",
              "          const element = document.querySelector('#df-29ff853a-9d9a-4264-9d2c-255b33afda46');\n",
              "          const dataTable =\n",
              "            await google.colab.kernel.invokeFunction('convertToInteractive',\n",
              "                                                     [key], {});\n",
              "          if (!dataTable) return;\n",
              "\n",
              "          const docLinkHtml = 'Like what you see? Visit the ' +\n",
              "            '<a target=\"_blank\" href=https://colab.research.google.com/notebooks/data_table.ipynb>data table notebook</a>'\n",
              "            + ' to learn more about interactive tables.';\n",
              "          element.innerHTML = '';\n",
              "          dataTable['output_type'] = 'display_data';\n",
              "          await google.colab.output.renderOutput(dataTable, element);\n",
              "          const docLink = document.createElement('div');\n",
              "          docLink.innerHTML = docLinkHtml;\n",
              "          element.appendChild(docLink);\n",
              "        }\n",
              "      </script>\n",
              "    </div>\n",
              "  </div>\n",
              "  "
            ]
          },
          "metadata": {},
          "execution_count": 17
        }
      ]
    },
    {
      "cell_type": "markdown",
      "source": [
        "#Visualizing the data"
      ],
      "metadata": {
        "id": "hom7DHr0Opel"
      }
    },
    {
      "cell_type": "code",
      "source": [
        "plt.scatter(data['Entrance Marks'],data['Graduation Marks'])\n",
        "plt.xlabel(\"Entrance Marks\")\n",
        "plt.ylabel(\"Graduation Marks\")"
      ],
      "metadata": {
        "colab": {
          "base_uri": "https://localhost:8080/",
          "height": 296
        },
        "id": "Jsq1Qu8hk0xA",
        "outputId": "ccf4a32d-b7e7-409e-a2c9-5772af889629"
      },
      "execution_count": null,
      "outputs": [
        {
          "output_type": "execute_result",
          "data": {
            "text/plain": [
              "Text(0, 0.5, 'Graduation Marks')"
            ]
          },
          "metadata": {},
          "execution_count": 18
        },
        {
          "output_type": "display_data",
          "data": {
            "text/plain": [
              "<Figure size 432x288 with 1 Axes>"
            ],
            "image/png": "[encoded data removed]"
          },
          "metadata": {
            "needs_background": "light"
          }
        }
      ]
    },
    {
      "cell_type": "markdown",
      "source": [
        "#Performing K-means clustering"
      ],
      "metadata": {
        "id": "p8biAU5UP75G"
      }
    },
    {
      "cell_type": "code",
      "source": [
        "x=data[['Graduation Marks','Entrance Marks']]\n",
        "x.head()"
      ],
      "metadata": {
        "colab": {
          "base_uri": "https://localhost:8080/",
          "height": 206
        },
        "id": "Muh06xugkJP3",
        "outputId": "09e0e50d-8aec-4092-8058-a57fbdb4f833"
      },
      "execution_count": null,
      "outputs": [
        {
          "output_type": "execute_result",
          "data": {
            "text/plain": [
              "   Graduation Marks  Entrance Marks\n",
              "0             93.50             165\n",
              "1             91.15             163\n",
              "2             85.80             163\n",
              "3             88.32             161\n",
              "4             80.56             153"
            ],
            "text/html": [
              "\n",
              "  <div id=\"df-13757204-510a-44d9-87f1-2837f0bf9c8a\">\n",
              "    <div class=\"colab-df-container\">\n",
              "      <div>\n",
              "<style scoped>\n",
              "    .dataframe tbody tr th:only-of-type {\n",
              "        vertical-align: middle;\n",
              "    }\n",
              "\n",
              "    .dataframe tbody tr th {\n",
              "        vertical-align: top;\n",
              "    }\n",
              "\n",
              "    .dataframe thead th {\n",
              "        text-align: right;\n",
              "    }\n",
              "</style>\n",
              "<table border=\"1\" class=\"dataframe\">\n",
              "  <thead>\n",
              "    <tr style=\"text-align: right;\">\n",
              "      <th></th>\n",
              "      <th>Graduation Marks</th>\n",
              "      <th>Entrance Marks</th>\n",
              "    </tr>\n",
              "  </thead>\n",
              "  <tbody>\n",
              "    <tr>\n",
              "      <th>0</th>\n",
              "      <td>93.50</td>\n",
              "      <td>165</td>\n",
              "    </tr>\n",
              "    <tr>\n",
              "      <th>1</th>\n",
              "      <td>91.15</td>\n",
              "      <td>163</td>\n",
              "    </tr>\n",
              "    <tr>\n",
              "      <th>2</th>\n",
              "      <td>85.80</td>\n",
              "      <td>163</td>\n",
              "    </tr>\n",
              "    <tr>\n",
              "      <th>3</th>\n",
              "      <td>88.32</td>\n",
              "      <td>161</td>\n",
              "    </tr>\n",
              "    <tr>\n",
              "      <th>4</th>\n",
              "      <td>80.56</td>\n",
              "      <td>153</td>\n",
              "    </tr>\n",
              "  </tbody>\n",
              "</table>\n",
              "</div>\n",
              "      <button class=\"colab-df-convert\" onclick=\"convertToInteractive('df-13757204-510a-44d9-87f1-2837f0bf9c8a')\"\n",
              "              title=\"Convert this dataframe to an interactive table.\"\n",
              "              style=\"display:none;\">\n",
              "        \n",
              "  <svg xmlns=\"http://www.w3.org/2000/svg\" height=\"24px\"viewBox=\"0 0 24 24\"\n",
              "       width=\"24px\">\n",
              "    <path d=\"M0 0h24v24H0V0z\" fill=\"none\"/>\n",
              "    <path d=\"M18.56 5.44l.94 2.06.94-2.06 2.06-.94-2.06-.94-.94-2.06-.94 2.06-2.06.94zm-11 1L8.5 8.5l.94-2.06 2.06-.94-2.06-.94L8.5 2.5l-.94 2.06-2.06.94zm10 10l.94 2.06.94-2.06 2.06-.94-2.06-.94-.94-2.06-.94 2.06-2.06.94z\"/><path d=\"M17.41 7.96l-1.37-1.37c-.4-.4-.92-.59-1.43-.59-.52 0-1.04.2-1.43.59L10.3 9.45l-7.72 7.72c-.78.78-.78 2.05 0 2.83L4 21.41c.39.39.9.59 1.41.59.51 0 1.02-.2 1.41-.59l7.78-7.78 2.81-2.81c.8-.78.8-2.07 0-2.86zM5.41 20L4 18.59l7.72-7.72 1.47 1.35L5.41 20z\"/>\n",
              "  </svg>\n",
              "      </button>\n",
              "      \n",
              "  <style>\n",
              "    .colab-df-container {\n",
              "      display:flex;\n",
              "      flex-wrap:wrap;\n",
              "      gap: 12px;\n",
              "    }\n",
              "\n",
              "    .colab-df-convert {\n",
              "      background-color: #E8F0FE;\n",
              "      border: none;\n",
              "      border-radius: 50%;\n",
              "      cursor: pointer;\n",
              "      display: none;\n",
              "      fill: #1967D2;\n",
              "      height: 32px;\n",
              "      padding: 0 0 0 0;\n",
              "      width: 32px;\n",
              "    }\n",
              "\n",
              "    .colab-df-convert:hover {\n",
              "      background-color: #E2EBFA;\n",
              "      box-shadow: 0px 1px 2px rgba(60, 64, 67, 0.3), 0px 1px 3px 1px rgba(60, 64, 67, 0.15);\n",
              "      fill: #174EA6;\n",
              "    }\n",
              "\n",
              "    [theme=dark] .colab-df-convert {\n",
              "      background-color: #3B4455;\n",
              "      fill: #D2E3FC;\n",
              "    }\n",
              "\n",
              "    [theme=dark] .colab-df-convert:hover {\n",
              "      background-color: #434B5C;\n",
              "      box-shadow: 0px 1px 3px 1px rgba(0, 0, 0, 0.15);\n",
              "      filter: drop-shadow(0px 1px 2px rgba(0, 0, 0, 0.3));\n",
              "      fill: #FFFFFF;\n",
              "    }\n",
              "  </style>\n",
              "\n",
              "      <script>\n",
              "        const buttonEl =\n",
              "          document.querySelector('#df-13757204-510a-44d9-87f1-2837f0bf9c8a button.colab-df-convert');\n",
              "        buttonEl.style.display =\n",
              "          google.colab.kernel.accessAllowed ? 'block' : 'none';\n",
              "\n",
              "        async function convertToInteractive(key) {\n",
              "          const element = document.querySelector('#df-13757204-510a-44d9-87f1-2837f0bf9c8a');\n",
              "          const dataTable =\n",
              "            await google.colab.kernel.invokeFunction('convertToInteractive',\n",
              "                                                     [key], {});\n",
              "          if (!dataTable) return;\n",
              "\n",
              "          const docLinkHtml = 'Like what you see? Visit the ' +\n",
              "            '<a target=\"_blank\" href=https://colab.research.google.com/notebooks/data_table.ipynb>data table notebook</a>'\n",
              "            + ' to learn more about interactive tables.';\n",
              "          element.innerHTML = '';\n",
              "          dataTable['output_type'] = 'display_data';\n",
              "          await google.colab.output.renderOutput(dataTable, element);\n",
              "          const docLink = document.createElement('div');\n",
              "          docLink.innerHTML = docLinkHtml;\n",
              "          element.appendChild(docLink);\n",
              "        }\n",
              "      </script>\n",
              "    </div>\n",
              "  </div>\n",
              "  "
            ]
          },
          "metadata": {},
          "execution_count": 19
        }
      ]
    },
    {
      "cell_type": "code",
      "source": [
        "#Standardizing the data\n",
        "x_scaled=preprocessing.scale(x)    \n",
        "x_scaled"
      ],
      "metadata": {
        "colab": {
          "base_uri": "https://localhost:8080/"
        },
        "id": "qaALTKW169JX",
        "outputId": "efbfbe23-72eb-4621-ef96-3ee932a2bf52"
      },
      "execution_count": null,
      "outputs": [
        {
          "output_type": "execute_result",
          "data": {
            "text/plain": [
              "array([[ 1.75661762,  1.35402015],\n",
              "       [ 1.50152771,  1.28099507],\n",
              "       [ 0.92079112,  1.28099507],\n",
              "       [ 1.19433433,  1.20796998],\n",
              "       [ 0.3519949 ,  0.91586965],\n",
              "       [ 1.45919364,  0.87935711],\n",
              "       [ 1.4038337 ,  0.84284457],\n",
              "       [ 1.27791698,  0.80633203],\n",
              "       [ 0.89365389,  0.80633203],\n",
              "       [ 0.30206241,  0.55074424],\n",
              "       [ 1.65458165,  0.5142317 ],\n",
              "       [ 0.64073496,  0.44120661],\n",
              "       [ 1.05104979,  0.40469407],\n",
              "       [ 0.46705673,  0.40469407],\n",
              "       [-1.3489663 ,  0.36818153],\n",
              "       [ 1.12486304,  0.33166899],\n",
              "       [ 1.20844569,  0.29515645],\n",
              "       [ 1.43422739,  0.25864391],\n",
              "       [ 0.12187124,  0.25864391],\n",
              "       [-0.14298807,  0.25864391],\n",
              "       [-0.13213318,  0.18561882],\n",
              "       [ 0.59514443,  0.14910628],\n",
              "       [ 0.66027377,  0.11259374],\n",
              "       [ 0.51047629,  1.20796998],\n",
              "       [ 0.58428954,  0.47771915],\n",
              "       [ 0.64941888, -0.17950659],\n",
              "       [-0.39373602, -0.28904422],\n",
              "       [ 1.4038337 , -0.32555676],\n",
              "       [ 0.95009932, -0.39858184],\n",
              "       [ 0.96421067, -0.43509438],\n",
              "       [ 0.77967755, -0.54463201],\n",
              "       [ 0.62011067, -0.58114455],\n",
              "       [ 0.1066744 , -0.61765709],\n",
              "       [ 0.74819837, -0.65416963],\n",
              "       [ 1.45919364, -0.72719471],\n",
              "       [ 1.08252897, -0.72719471],\n",
              "       [-0.11910731, -0.8002198 ],\n",
              "       [ 1.27900247, -0.83673234],\n",
              "       [ 0.19134253, -0.83673234],\n",
              "       [-0.86158176, -0.21601913],\n",
              "       [-0.33511961, -0.8002198 ],\n",
              "       [ 0.38455957, -0.94626996],\n",
              "       [-2.87516378, -1.23837029],\n",
              "       [ 1.02716903, -1.53047062],\n",
              "       [ 0.88822645, -1.56698317],\n",
              "       [ 1.09664033, -1.82257096],\n",
              "       [ 1.27248954,  0.40469407],\n",
              "       [ 0.06325484, -2.11467129],\n",
              "       [-0.07460226, -2.11467129],\n",
              "       [ 0.77316462,  0.44120661],\n",
              "       [-1.45208775,  0.03956866],\n",
              "       [ 1.4136031 , -0.06996897],\n",
              "       [ 0.7156337 , -0.3620693 ],\n",
              "       [ 0.58971698, -0.47160692],\n",
              "       [ 0.66027377, -0.50811946],\n",
              "       [ 1.37561099,  0.62376932],\n",
              "       [ 0.86000373,  0.25864391],\n",
              "       [ 1.19216336,  0.14910628],\n",
              "       [-0.73566504,  0.00305612],\n",
              "       [-0.37636819, -0.03345643],\n",
              "       [ 0.81766966, -0.14299405],\n",
              "       [-1.85263318, -0.14299405],\n",
              "       [ 1.13788891, -0.21601913],\n",
              "       [-0.14298807, -0.25253167],\n",
              "       [-0.21897229, -0.28904422],\n",
              "       [-1.59754327, -0.28904422],\n",
              "       [ 0.78944695, -0.32555676],\n",
              "       [ 0.15226493, -0.3620693 ],\n",
              "       [ 0.73951446, -0.47160692],\n",
              "       [ 1.34738828, -0.50811946],\n",
              "       [-0.24610952, -0.54463201],\n",
              "       [ 1.26380563, -0.58114455],\n",
              "       [-1.0244051 , -0.58114455],\n",
              "       [ 1.12703402, -1.09232013],\n",
              "       [-0.25587892, -1.31139538],\n",
              "       [-0.40024895, -1.31139538],\n",
              "       [ 1.49718575, -1.38442046],\n",
              "       [ 0.12512771, -1.420933  ],\n",
              "       [ 1.30396872, -1.49395808],\n",
              "       [ 0.74819837, -1.49395808],\n",
              "       [ 1.18347944, -1.64000825],\n",
              "       [ 0.03177566, -1.64000825],\n",
              "       [-0.7096133 , -1.74954587],\n",
              "       [ 0.8046438 , -1.8590835 ],\n",
              "       [ 0.40301288, -1.8590835 ],\n",
              "       [-1.35982119, -1.93210858],\n",
              "       [-1.02006315, -1.420933  ],\n",
              "       [ 1.16936809, -1.45744554],\n",
              "       [-0.87569311, -1.49395808],\n",
              "       [-1.54001236, -1.53047062],\n",
              "       [-0.13538964, -1.8590835 ],\n",
              "       [ 1.08252897, -1.89559604],\n",
              "       [ 0.32594317, -2.11467129],\n",
              "       [-0.08762813, -2.4797967 ],\n",
              "       [-0.17121078, -0.3620693 ],\n",
              "       [ 1.52866493, -0.39858184],\n",
              "       [ 1.45919364, -0.39858184],\n",
              "       [-0.27650321, -0.65416963],\n",
              "       [-0.67162119, -1.09232013],\n",
              "       [ 1.03585295, -1.12883267],\n",
              "       [ 1.15308575,  1.5730954 ],\n",
              "       [ 0.69283843,  1.5730954 ],\n",
              "       [ 0.35308039,  1.5730954 ],\n",
              "       [ 1.54277629,  1.42704523],\n",
              "       [ 0.77642108,  1.42704523],\n",
              "       [ 0.41386777,  1.39053269],\n",
              "       [ 0.20545389,  1.28099507],\n",
              "       [-0.07026031,  1.20796998],\n",
              "       [-0.22005778,  1.20796998],\n",
              "       [-1.40649722,  1.20796998],\n",
              "       [ 1.18022298,  1.06191982],\n",
              "       [ 0.22716367,  0.95238219],\n",
              "       [-0.07026031,  0.91586965],\n",
              "       [-0.45995084,  0.87935711],\n",
              "       [-0.80187987,  0.87935711],\n",
              "       [-0.6314581 ,  0.84284457],\n",
              "       [ 1.65349616,  0.80633203],\n",
              "       [-0.14298807,  0.80633203],\n",
              "       [ 1.30505421,  0.73330694],\n",
              "       [-1.27298207,  0.62376932],\n",
              "       [ 0.44209048,  0.58725678],\n",
              "       [ 0.10558891,  0.55074424],\n",
              "       [-1.59211583,  0.22213136],\n",
              "       [ 0.12512771,  0.18561882],\n",
              "       [-1.07650857,  0.0760812 ],\n",
              "       [-0.58152561,  0.03956866],\n",
              "       [-0.95167734, -0.14299405],\n",
              "       [-0.21680132, -0.17950659],\n",
              "       [-0.36659879, -0.32555676],\n",
              "       [ 0.30966083, -0.32555676],\n",
              "       [-0.13430415, -0.32555676],\n",
              "       [-2.0968682 , -0.43509438],\n",
              "       [-0.98641299, -0.43509438],\n",
              "       [-0.81273475, -0.43509438],\n",
              "       [ 0.35959332, -0.65416963],\n",
              "       [-1.91884801, -0.65416963],\n",
              "       [ 0.52241667,  0.58725678],\n",
              "       [-0.63797103,  0.25864391],\n",
              "       [-0.07026031,  0.14910628],\n",
              "       [-1.50419122,  0.11259374],\n",
              "       [ 0.38347408,  0.0760812 ],\n",
              "       [ 0.69935137, -0.06996897],\n",
              "       [ 0.16311982,  1.79217065],\n",
              "       [-0.8963174 ,  1.7556581 ],\n",
              "       [ 0.02309175,  1.64612048],\n",
              "       [ 0.13164064,  1.42704523],\n",
              "       [ 0.10124695,  1.39053269],\n",
              "       [-1.48139595,  1.39053269],\n",
              "       [-2.88818965,  1.31750761],\n",
              "       [-0.50879785,  1.28099507],\n",
              "       [ 0.14900846,  1.28099507],\n",
              "       [-0.36008586,  1.17145744],\n",
              "       [ 0.07519522,  1.17145744],\n",
              "       [-2.07407293,  1.1349449 ],\n",
              "       [ 0.47356966,  1.09843236],\n",
              "       [-0.7096133 ,  1.09843236],\n",
              "       [-1.39130037,  1.02540728],\n",
              "       [ 0.38021761,  1.02540728],\n",
              "       [-0.06157639,  1.02540728],\n",
              "       [-1.4868234 ,  1.02540728],\n",
              "       [-1.58126094,  1.02540728],\n",
              "       [ 0.90993623,  0.98889473],\n",
              "       [ 0.41386777,  0.95238219],\n",
              "       [ 0.25104443,  0.95238219],\n",
              "       [-0.22439974,  0.95238219],\n",
              "       [-0.84855589,  0.95238219],\n",
              "       [ 0.23259111,  0.36818153],\n",
              "       [ 0.1066744 , -0.10648151],\n",
              "       [-1.67569848, -0.17950659],\n",
              "       [ 1.25946367, -0.25253167],\n",
              "       [-0.95167734, -0.25253167],\n",
              "       [ 0.46488575, -0.28904422],\n",
              "       [-0.60323539, -0.28904422],\n",
              "       [ 0.97072361, -0.43509438],\n",
              "       [-0.40241993, -0.50811946],\n",
              "       [-1.83960731, -0.50811946],\n",
              "       [ 0.1555214 , -0.61765709],\n",
              "       [-0.19943349, -0.61765709],\n",
              "       [-1.74408428, -0.25253167],\n",
              "       [-2.03933728, -0.61765709],\n",
              "       [-1.31423065, -0.76370725],\n",
              "       [ 1.29419932, -1.16534521],\n",
              "       [-0.4838316 , -2.22420891],\n",
              "       [-2.37475337, -2.66235941],\n",
              "       [-0.4642928 ,  1.06191982],\n",
              "       [ 1.04128039,  0.40469407],\n",
              "       [ 0.49419395,  1.20796998],\n",
              "       [ 0.92947503,  1.1349449 ],\n",
              "       [ 0.88822645,  1.1349449 ],\n",
              "       [ 0.01115137,  1.09843236],\n",
              "       [-2.2738029 ,  1.06191982],\n",
              "       [-0.26890479,  0.95238219],\n",
              "       [ 0.28903654,  0.87935711],\n",
              "       [ 0.92404758,  0.84284457],\n",
              "       [-0.75846031,  0.84284457],\n",
              "       [ 0.61034127,  0.80633203],\n",
              "       [-1.35656472,  0.80633203],\n",
              "       [-0.42195873,  0.76981949],\n",
              "       [-2.78941015,  0.76981949],\n",
              "       [ 0.24995894,  0.73330694],\n",
              "       [-0.19726251,  0.73330694],\n",
              "       [ 0.19025705,  0.6967944 ],\n",
              "       [ 0.84263591,  0.66028186],\n",
              "       [ 0.11535831,  0.66028186],\n",
              "       [-0.22005778,  0.66028186],\n",
              "       [-0.14298807,  0.62376932],\n",
              "       [-0.21463034,  0.62376932],\n",
              "       [-1.09279091,  0.62376932],\n",
              "       [-0.03226819,  0.55074424],\n",
              "       [ 0.39975641,  0.66028186],\n",
              "       [ 0.29120752,  0.36818153],\n",
              "       [-0.31015337,  0.33166899],\n",
              "       [-0.83010258,  0.18561882],\n",
              "       [-0.7986234 ,  0.14910628],\n",
              "       [-0.10282497, -0.03345643],\n",
              "       [-1.07650857, -0.17950659],\n",
              "       [-0.99292592, -0.21601913],\n",
              "       [-0.75086188, -0.32555676],\n",
              "       [-1.3782745 , -0.50811946],\n",
              "       [-0.92454012, -0.69068217],\n",
              "       [ 0.13489711, -0.87324488],\n",
              "       [-1.6051417 , -0.58114455],\n",
              "       [-1.78858933, -1.71303333],\n",
              "       [-1.96552403, -1.82257096],\n",
              "       [ 0.02309175, -1.89559604],\n",
              "       [-0.93756599, -2.22420891],\n",
              "       [ 0.11535831, -2.29723399]])"
            ]
          },
          "metadata": {},
          "execution_count": 20
        }
      ]
    },
    {
      "cell_type": "code",
      "source": [
        "wcss=[]\n",
        "krange=range(1,10)\n",
        "for k in krange:\n",
        "  km=KMeans(n_clusters=k)\n",
        "  km.fit(x_scaled)\n",
        "  wcss.append(km.inertia_)"
      ],
      "metadata": {
        "colab": {
          "base_uri": "https://localhost:8080/"
        },
        "id": "4Rn0AIpJue0Y",
        "outputId": "62eba125-d68a-4829-b2cb-5e99d0e9c615"
      },
      "execution_count": null,
      "outputs": [
        {
          "output_type": "stream",
          "name": "stderr",
          "text": [
            "/usr/local/lib/python3.9/dist-packages/sklearn/cluster/_kmeans.py:870: FutureWarning: The default value of `n_init` will change from 10 to 'auto' in 1.4. Set the value of `n_init` explicitly to suppress the warning\n",
            "  warnings.warn(\n",
            "/usr/local/lib/python3.9/dist-packages/sklearn/cluster/_kmeans.py:870: FutureWarning: The default value of `n_init` will change from 10 to 'auto' in 1.4. Set the value of `n_init` explicitly to suppress the warning\n",
            "  warnings.warn(\n",
            "/usr/local/lib/python3.9/dist-packages/sklearn/cluster/_kmeans.py:870: FutureWarning: The default value of `n_init` will change from 10 to 'auto' in 1.4. Set the value of `n_init` explicitly to suppress the warning\n",
            "  warnings.warn(\n",
            "/usr/local/lib/python3.9/dist-packages/sklearn/cluster/_kmeans.py:870: FutureWarning: The default value of `n_init` will change from 10 to 'auto' in 1.4. Set the value of `n_init` explicitly to suppress the warning\n",
            "  warnings.warn(\n",
            "/usr/local/lib/python3.9/dist-packages/sklearn/cluster/_kmeans.py:870: FutureWarning: The default value of `n_init` will change from 10 to 'auto' in 1.4. Set the value of `n_init` explicitly to suppress the warning\n",
            "  warnings.warn(\n",
            "/usr/local/lib/python3.9/dist-packages/sklearn/cluster/_kmeans.py:870: FutureWarning: The default value of `n_init` will change from 10 to 'auto' in 1.4. Set the value of `n_init` explicitly to suppress the warning\n",
            "  warnings.warn(\n",
            "/usr/local/lib/python3.9/dist-packages/sklearn/cluster/_kmeans.py:870: FutureWarning: The default value of `n_init` will change from 10 to 'auto' in 1.4. Set the value of `n_init` explicitly to suppress the warning\n",
            "  warnings.warn(\n",
            "/usr/local/lib/python3.9/dist-packages/sklearn/cluster/_kmeans.py:870: FutureWarning: The default value of `n_init` will change from 10 to 'auto' in 1.4. Set the value of `n_init` explicitly to suppress the warning\n",
            "  warnings.warn(\n",
            "/usr/local/lib/python3.9/dist-packages/sklearn/cluster/_kmeans.py:870: FutureWarning: The default value of `n_init` will change from 10 to 'auto' in 1.4. Set the value of `n_init` explicitly to suppress the warning\n",
            "  warnings.warn(\n"
          ]
        }
      ]
    },
    {
      "cell_type": "code",
      "source": [
        "plt.xlabel('k')\n",
        "plt.ylabel('wcss')\n",
        "plt.plot(krange,wcss)"
      ],
      "metadata": {
        "colab": {
          "base_uri": "https://localhost:8080/",
          "height": 296
        },
        "id": "Bbb80h2aulkV",
        "outputId": "5ec00275-65ac-4e62-c543-2e48b163f31f"
      },
      "execution_count": null,
      "outputs": [
        {
          "output_type": "execute_result",
          "data": {
            "text/plain": [
              "[<matplotlib.lines.Line2D at 0x7f75f3d7df70>]"
            ]
          },
          "metadata": {},
          "execution_count": 22
        },
        {
          "output_type": "display_data",
          "data": {
            "text/plain": [
              "<Figure size 432x288 with 1 Axes>"
            ],
            "image/png": "[encoded data removed]"
          },
          "metadata": {
            "needs_background": "light"
          }
        }
      ]
    },
    {
      "cell_type": "markdown",
      "source": [
        "According to elbow rule k=3 seems the most optimum value but since the fall is still dramatic after that we try to see how k changes visually."
      ],
      "metadata": {
        "id": "osk7nZSlXrjC"
      }
    },
    {
      "cell_type": "code",
      "source": [
        "#plotting wcss with respective values of k one by one to know how clusters are being formed\n",
        "kmeans_new=KMeans(2)\n",
        "kmeans_new.fit(x_scaled)\n",
        "clusters_new=x.copy()\n",
        "clusters_new['clusters']=kmeans_new.fit_predict(x_scaled)"
      ],
      "metadata": {
        "colab": {
          "base_uri": "https://localhost:8080/"
        },
        "id": "gCYojK0U_AKv",
        "outputId": "39bc6d86-0c13-4045-e10f-bed9fc6cbf46"
      },
      "execution_count": null,
      "outputs": [
        {
          "output_type": "stream",
          "name": "stderr",
          "text": [
            "/usr/local/lib/python3.9/dist-packages/sklearn/cluster/_kmeans.py:870: FutureWarning: The default value of `n_init` will change from 10 to 'auto' in 1.4. Set the value of `n_init` explicitly to suppress the warning\n",
            "  warnings.warn(\n",
            "/usr/local/lib/python3.9/dist-packages/sklearn/cluster/_kmeans.py:870: FutureWarning: The default value of `n_init` will change from 10 to 'auto' in 1.4. Set the value of `n_init` explicitly to suppress the warning\n",
            "  warnings.warn(\n"
          ]
        }
      ]
    },
    {
      "cell_type": "code",
      "source": [
        "clusters_new"
      ],
      "metadata": {
        "colab": {
          "base_uri": "https://localhost:8080/",
          "height": 423
        },
        "id": "ei4pxWL9BDlN",
        "outputId": "d29b33a2-8873-47d3-96d7-11d14612feec"
      },
      "execution_count": null,
      "outputs": [
        {
          "output_type": "execute_result",
          "data": {
            "text/plain": [
              "     Graduation Marks  Entrance Marks  clusters\n",
              "0               93.50             165         0\n",
              "1               91.15             163         0\n",
              "2               85.80             163         0\n",
              "3               88.32             161         0\n",
              "4               80.56             153         0\n",
              "..                ...             ...       ...\n",
              "254             60.84              81         1\n",
              "255             59.21              78         1\n",
              "256             77.53              76         1\n",
              "257             68.68              67         1\n",
              "258             78.38              65         1\n",
              "\n",
              "[227 rows x 3 columns]"
            ],
            "text/html": [
              "\n",
              "  <div id=\"df-dc1d54a1-c777-4f1b-a964-7dfbadfd5fc5\">\n",
              "    <div class=\"colab-df-container\">\n",
              "      <div>\n",
              "<style scoped>\n",
              "    .dataframe tbody tr th:only-of-type {\n",
              "        vertical-align: middle;\n",
              "    }\n",
              "\n",
              "    .dataframe tbody tr th {\n",
              "        vertical-align: top;\n",
              "    }\n",
              "\n",
              "    .dataframe thead th {\n",
              "        text-align: right;\n",
              "    }\n",
              "</style>\n",
              "<table border=\"1\" class=\"dataframe\">\n",
              "  <thead>\n",
              "    <tr style=\"text-align: right;\">\n",
              "      <th></th>\n",
              "      <th>Graduation Marks</th>\n",
              "      <th>Entrance Marks</th>\n",
              "      <th>clusters</th>\n",
              "    </tr>\n",
              "  </thead>\n",
              "  <tbody>\n",
              "    <tr>\n",
              "      <th>0</th>\n",
              "      <td>93.50</td>\n",
              "      <td>165</td>\n",
              "      <td>0</td>\n",
              "    </tr>\n",
              "    <tr>\n",
              "      <th>1</th>\n",
              "      <td>91.15</td>\n",
              "      <td>163</td>\n",
              "      <td>0</td>\n",
              "    </tr>\n",
              "    <tr>\n",
              "      <th>2</th>\n",
              "      <td>85.80</td>\n",
              "      <td>163</td>\n",
              "      <td>0</td>\n",
              "    </tr>\n",
              "    <tr>\n",
              "      <th>3</th>\n",
              "      <td>88.32</td>\n",
              "      <td>161</td>\n",
              "      <td>0</td>\n",
              "    </tr>\n",
              "    <tr>\n",
              "      <th>4</th>\n",
              "      <td>80.56</td>\n",
              "      <td>153</td>\n",
              "      <td>0</td>\n",
              "    </tr>\n",
              "    <tr>\n",
              "      <th>...</th>\n",
              "      <td>...</td>\n",
              "      <td>...</td>\n",
              "      <td>...</td>\n",
              "    </tr>\n",
              "    <tr>\n",
              "      <th>254</th>\n",
              "      <td>60.84</td>\n",
              "      <td>81</td>\n",
              "      <td>1</td>\n",
              "    </tr>\n",
              "    <tr>\n",
              "      <th>255</th>\n",
              "      <td>59.21</td>\n",
              "      <td>78</td>\n",
              "      <td>1</td>\n",
              "    </tr>\n",
              "    <tr>\n",
              "      <th>256</th>\n",
              "      <td>77.53</td>\n",
              "      <td>76</td>\n",
              "      <td>1</td>\n",
              "    </tr>\n",
              "    <tr>\n",
              "      <th>257</th>\n",
              "      <td>68.68</td>\n",
              "      <td>67</td>\n",
              "      <td>1</td>\n",
              "    </tr>\n",
              "    <tr>\n",
              "      <th>258</th>\n",
              "      <td>78.38</td>\n",
              "      <td>65</td>\n",
              "      <td>1</td>\n",
              "    </tr>\n",
              "  </tbody>\n",
              "</table>\n",
              "<p>227 rows × 3 columns</p>\n",
              "</div>\n",
              "      <button class=\"colab-df-convert\" onclick=\"convertToInteractive('df-dc1d54a1-c777-4f1b-a964-7dfbadfd5fc5')\"\n",
              "              title=\"Convert this dataframe to an interactive table.\"\n",
              "              style=\"display:none;\">\n",
              "        \n",
              "  <svg xmlns=\"http://www.w3.org/2000/svg\" height=\"24px\"viewBox=\"0 0 24 24\"\n",
              "       width=\"24px\">\n",
              "    <path d=\"M0 0h24v24H0V0z\" fill=\"none\"/>\n",
              "    <path d=\"M18.56 5.44l.94 2.06.94-2.06 2.06-.94-2.06-.94-.94-2.06-.94 2.06-2.06.94zm-11 1L8.5 8.5l.94-2.06 2.06-.94-2.06-.94L8.5 2.5l-.94 2.06-2.06.94zm10 10l.94 2.06.94-2.06 2.06-.94-2.06-.94-.94-2.06-.94 2.06-2.06.94z\"/><path d=\"M17.41 7.96l-1.37-1.37c-.4-.4-.92-.59-1.43-.59-.52 0-1.04.2-1.43.59L10.3 9.45l-7.72 7.72c-.78.78-.78 2.05 0 2.83L4 21.41c.39.39.9.59 1.41.59.51 0 1.02-.2 1.41-.59l7.78-7.78 2.81-2.81c.8-.78.8-2.07 0-2.86zM5.41 20L4 18.59l7.72-7.72 1.47 1.35L5.41 20z\"/>\n",
              "  </svg>\n",
              "      </button>\n",
              "      \n",
              "  <style>\n",
              "    .colab-df-container {\n",
              "      display:flex;\n",
              "      flex-wrap:wrap;\n",
              "      gap: 12px;\n",
              "    }\n",
              "\n",
              "    .colab-df-convert {\n",
              "      background-color: #E8F0FE;\n",
              "      border: none;\n",
              "      border-radius: 50%;\n",
              "      cursor: pointer;\n",
              "      display: none;\n",
              "      fill: #1967D2;\n",
              "      height: 32px;\n",
              "      padding: 0 0 0 0;\n",
              "      width: 32px;\n",
              "    }\n",
              "\n",
              "    .colab-df-convert:hover {\n",
              "      background-color: #E2EBFA;\n",
              "      box-shadow: 0px 1px 2px rgba(60, 64, 67, 0.3), 0px 1px 3px 1px rgba(60, 64, 67, 0.15);\n",
              "      fill: #174EA6;\n",
              "    }\n",
              "\n",
              "    [theme=dark] .colab-df-convert {\n",
              "      background-color: #3B4455;\n",
              "      fill: #D2E3FC;\n",
              "    }\n",
              "\n",
              "    [theme=dark] .colab-df-convert:hover {\n",
              "      background-color: #434B5C;\n",
              "      box-shadow: 0px 1px 3px 1px rgba(0, 0, 0, 0.15);\n",
              "      filter: drop-shadow(0px 1px 2px rgba(0, 0, 0, 0.3));\n",
              "      fill: #FFFFFF;\n",
              "    }\n",
              "  </style>\n",
              "\n",
              "      <script>\n",
              "        const buttonEl =\n",
              "          document.querySelector('#df-dc1d54a1-c777-4f1b-a964-7dfbadfd5fc5 button.colab-df-convert');\n",
              "        buttonEl.style.display =\n",
              "          google.colab.kernel.accessAllowed ? 'block' : 'none';\n",
              "\n",
              "        async function convertToInteractive(key) {\n",
              "          const element = document.querySelector('#df-dc1d54a1-c777-4f1b-a964-7dfbadfd5fc5');\n",
              "          const dataTable =\n",
              "            await google.colab.kernel.invokeFunction('convertToInteractive',\n",
              "                                                     [key], {});\n",
              "          if (!dataTable) return;\n",
              "\n",
              "          const docLinkHtml = 'Like what you see? Visit the ' +\n",
              "            '<a target=\"_blank\" href=https://colab.research.google.com/notebooks/data_table.ipynb>data table notebook</a>'\n",
              "            + ' to learn more about interactive tables.';\n",
              "          element.innerHTML = '';\n",
              "          dataTable['output_type'] = 'display_data';\n",
              "          await google.colab.output.renderOutput(dataTable, element);\n",
              "          const docLink = document.createElement('div');\n",
              "          docLink.innerHTML = docLinkHtml;\n",
              "          element.appendChild(docLink);\n",
              "        }\n",
              "      </script>\n",
              "    </div>\n",
              "  </div>\n",
              "  "
            ]
          },
          "metadata": {},
          "execution_count": 24
        }
      ]
    },
    {
      "cell_type": "code",
      "source": [
        "plt.scatter(clusters_new['Entrance Marks'],clusters_new['Graduation Marks'],c=clusters_new['clusters'],cmap='rainbow')\n",
        "plt.xlabel('Entrance Marks')\n",
        "plt.ylabel('Graduation Marks')"
      ],
      "metadata": {
        "colab": {
          "base_uri": "https://localhost:8080/",
          "height": 296
        },
        "id": "xgfaNC6hBNwy",
        "outputId": "7e1c2f03-8076-4e7c-9724-6a46364b3bae"
      },
      "execution_count": null,
      "outputs": [
        {
          "output_type": "execute_result",
          "data": {
            "text/plain": [
              "Text(0, 0.5, 'Graduation Marks')"
            ]
          },
          "metadata": {},
          "execution_count": 25
        },
        {
          "output_type": "display_data",
          "data": {
            "text/plain": [
              "<Figure size 432x288 with 1 Axes>"
            ],
            "image/png": "[encoded data removed]"
          },
          "metadata": {
            "needs_background": "light"
          }
        }
      ]
    },
    {
      "cell_type": "markdown",
      "source": [
        "Violet group - Hardworking \n",
        "\n",
        "Red group - Not so hardworking"
      ],
      "metadata": {
        "id": "IgkHEQ5rYLr2"
      }
    },
    {
      "cell_type": "code",
      "source": [
        "kmeans_new=KMeans(3)\n",
        "kmeans_new.fit(x_scaled)\n",
        "clusters_new=x.copy()\n",
        "clusters_new['clusters']=kmeans_new.fit_predict(x_scaled)\n",
        "plt.scatter(clusters_new['Entrance Marks'],clusters_new['Graduation Marks'],c=clusters_new['clusters'],cmap='rainbow')\n",
        "plt.xlabel('Entrance Marks')\n",
        "plt.ylabel('Graduation Marks')"
      ],
      "metadata": {
        "colab": {
          "base_uri": "https://localhost:8080/",
          "height": 386
        },
        "id": "xlgSbKY0B0Zb",
        "outputId": "2f6ef7ff-8c42-422c-82ab-0d29a5aa414d"
      },
      "execution_count": null,
      "outputs": [
        {
          "output_type": "stream",
          "name": "stderr",
          "text": [
            "/usr/local/lib/python3.9/dist-packages/sklearn/cluster/_kmeans.py:870: FutureWarning: The default value of `n_init` will change from 10 to 'auto' in 1.4. Set the value of `n_init` explicitly to suppress the warning\n",
            "  warnings.warn(\n",
            "/usr/local/lib/python3.9/dist-packages/sklearn/cluster/_kmeans.py:870: FutureWarning: The default value of `n_init` will change from 10 to 'auto' in 1.4. Set the value of `n_init` explicitly to suppress the warning\n",
            "  warnings.warn(\n"
          ]
        },
        {
          "output_type": "execute_result",
          "data": {
            "text/plain": [
              "Text(0, 0.5, 'Graduation Marks')"
            ]
          },
          "metadata": {},
          "execution_count": 26
        },
        {
          "output_type": "display_data",
          "data": {
            "text/plain": [
              "<Figure size 432x288 with 1 Axes>"
            ],
            "image/png": "[encoded data removed]"
          },
          "metadata": {
            "needs_background": "light"
          }
        }
      ]
    },
    {
      "cell_type": "markdown",
      "source": [
        "Red - Hardworking and high IQ\n",
        "\n",
        "Violet- Hardworking with moderate IQ\n",
        "\n",
        "Green- Not so hardworking"
      ],
      "metadata": {
        "id": "owOr9FWxYjNp"
      }
    },
    {
      "cell_type": "code",
      "source": [
        "kmeans_new=KMeans(4)\n",
        "kmeans_new.fit(x_scaled)\n",
        "clusters_new=x.copy()\n",
        "clusters_new['clusters']=kmeans_new.fit_predict(x_scaled)\n",
        "plt.scatter(clusters_new['Entrance Marks'],clusters_new['Graduation Marks'],c=clusters_new['clusters'],cmap='rainbow')\n",
        "plt.xlabel('Entrance Marks')\n",
        "plt.ylabel('Graduation Marks')"
      ],
      "metadata": {
        "colab": {
          "base_uri": "https://localhost:8080/",
          "height": 386
        },
        "id": "efH01fI2Cytr",
        "outputId": "2ba79801-e84f-44be-b579-a02fdedb7d22"
      },
      "execution_count": null,
      "outputs": [
        {
          "output_type": "stream",
          "name": "stderr",
          "text": [
            "/usr/local/lib/python3.9/dist-packages/sklearn/cluster/_kmeans.py:870: FutureWarning: The default value of `n_init` will change from 10 to 'auto' in 1.4. Set the value of `n_init` explicitly to suppress the warning\n",
            "  warnings.warn(\n",
            "/usr/local/lib/python3.9/dist-packages/sklearn/cluster/_kmeans.py:870: FutureWarning: The default value of `n_init` will change from 10 to 'auto' in 1.4. Set the value of `n_init` explicitly to suppress the warning\n",
            "  warnings.warn(\n"
          ]
        },
        {
          "output_type": "execute_result",
          "data": {
            "text/plain": [
              "Text(0, 0.5, 'Graduation Marks')"
            ]
          },
          "metadata": {},
          "execution_count": 27
        },
        {
          "output_type": "display_data",
          "data": {
            "text/plain": [
              "<Figure size 432x288 with 1 Axes>"
            ],
            "image/png": "[encoded data removed]"
          },
          "metadata": {
            "needs_background": "light"
          }
        }
      ]
    },
    {
      "cell_type": "markdown",
      "source": [
        "Violet- Hardworking with High IQ\n",
        "\n",
        "Sea green- Hardworking with moderate IQ\n",
        "\n",
        "Brown- Not so hardworking with good IQ\n",
        "\n",
        "Red- Not so hardworking with average IQ"
      ],
      "metadata": {
        "id": "vp0IbnXDZP3w"
      }
    },
    {
      "cell_type": "code",
      "source": [
        "kmeans_new=KMeans(5)\n",
        "kmeans_new.fit(x_scaled)\n",
        "clusters_new=x.copy()\n",
        "clusters_new['clusters']=kmeans_new.fit_predict(x_scaled)\n",
        "plt.scatter(clusters_new['Entrance Marks'],clusters_new['Graduation Marks'],c=clusters_new['clusters'],cmap='rainbow')\n",
        "plt.xlabel('Entrance Marks')\n",
        "plt.ylabel('Graduation Marks')"
      ],
      "metadata": {
        "colab": {
          "base_uri": "https://localhost:8080/",
          "height": 386
        },
        "id": "DvlTYnoGElKb",
        "outputId": "d0e46534-788e-468f-8a32-8566ca224b59"
      },
      "execution_count": null,
      "outputs": [
        {
          "output_type": "stream",
          "name": "stderr",
          "text": [
            "/usr/local/lib/python3.9/dist-packages/sklearn/cluster/_kmeans.py:870: FutureWarning: The default value of `n_init` will change from 10 to 'auto' in 1.4. Set the value of `n_init` explicitly to suppress the warning\n",
            "  warnings.warn(\n",
            "/usr/local/lib/python3.9/dist-packages/sklearn/cluster/_kmeans.py:870: FutureWarning: The default value of `n_init` will change from 10 to 'auto' in 1.4. Set the value of `n_init` explicitly to suppress the warning\n",
            "  warnings.warn(\n"
          ]
        },
        {
          "output_type": "execute_result",
          "data": {
            "text/plain": [
              "Text(0, 0.5, 'Graduation Marks')"
            ]
          },
          "metadata": {},
          "execution_count": 28
        },
        {
          "output_type": "display_data",
          "data": {
            "text/plain": [
              "<Figure size 432x288 with 1 Axes>"
            ],
            "image/png": "[encoded data removed]"
          },
          "metadata": {
            "needs_background": "light"
          }
        }
      ]
    },
    {
      "cell_type": "markdown",
      "source": [
        "Orange - Hardworking with high IQ\n",
        "\n",
        "Violet - Not so hard working with high IQ\n",
        "\n",
        "Red - Casual with High IQ\n",
        "\n",
        "Sea green - Not so hardworking with moderate IQ\n",
        "\n",
        "Sky Blue - Not so hardworking with Average IQ "
      ],
      "metadata": {
        "id": "Xxns1Zh2aJcC"
      }
    },
    {
      "cell_type": "markdown",
      "source": [
        "After k=4 the clusters are becoming too specific. Hence we take k=4."
      ],
      "metadata": {
        "id": "UUFcypWXb7Vm"
      }
    },
    {
      "cell_type": "code",
      "source": [
        "kmeans_new=KMeans(4,random_state=1)\n",
        "kmeans_new.fit(x_scaled)\n",
        "clusters_new=x.copy()\n",
        "clusters_new['clusters']=kmeans_new.fit_predict(x_scaled)\n",
        "sns.scatterplot(clusters_new['Entrance Marks'],clusters_new['Graduation Marks'],hue=clusters_new['clusters'],palette='Paired')"
      ],
      "metadata": {
        "colab": {
          "base_uri": "https://localhost:8080/",
          "height": 420
        },
        "id": "vusYQS9QFdIL",
        "outputId": "573e0f33-a8bb-410f-be33-93143ab7befc"
      },
      "execution_count": null,
      "outputs": [
        {
          "output_type": "stream",
          "name": "stderr",
          "text": [
            "/usr/local/lib/python3.9/dist-packages/sklearn/cluster/_kmeans.py:870: FutureWarning: The default value of `n_init` will change from 10 to 'auto' in 1.4. Set the value of `n_init` explicitly to suppress the warning\n",
            "  warnings.warn(\n",
            "/usr/local/lib/python3.9/dist-packages/sklearn/cluster/_kmeans.py:870: FutureWarning: The default value of `n_init` will change from 10 to 'auto' in 1.4. Set the value of `n_init` explicitly to suppress the warning\n",
            "  warnings.warn(\n",
            "/usr/local/lib/python3.9/dist-packages/seaborn/_decorators.py:36: FutureWarning: Pass the following variables as keyword args: x, y. From version 0.12, the only valid positional argument will be `data`, and passing other arguments without an explicit keyword will result in an error or misinterpretation.\n",
            "  warnings.warn(\n"
          ]
        },
        {
          "output_type": "execute_result",
          "data": {
            "text/plain": [
              "<AxesSubplot:xlabel='Entrance Marks', ylabel='Graduation Marks'>"
            ]
          },
          "metadata": {},
          "execution_count": 40
        },
        {
          "output_type": "display_data",
          "data": {
            "text/plain": [
              "<Figure size 432x288 with 1 Axes>"
            ],
            "image/png": "[encoded data removed]"
          },
          "metadata": {
            "needs_background": "light"
          }
        }
      ]
    },
    {
      "cell_type": "code",
      "source": [
        "clusters_new"
      ],
      "metadata": {
        "colab": {
          "base_uri": "https://localhost:8080/",
          "height": 423
        },
        "id": "RdrtsI40e1dk",
        "outputId": "e83b7285-08ec-471b-f0b1-ea109ac3d90f"
      },
      "execution_count": null,
      "outputs": [
        {
          "output_type": "execute_result",
          "data": {
            "text/plain": [
              "     Graduation Marks  Entrance Marks  clusters\n",
              "0               93.50             165         1\n",
              "1               91.15             163         1\n",
              "2               85.80             163         1\n",
              "3               88.32             161         1\n",
              "4               80.56             153         1\n",
              "..                ...             ...       ...\n",
              "254             60.84              81         0\n",
              "255             59.21              78         0\n",
              "256             77.53              76         0\n",
              "257             68.68              67         0\n",
              "258             78.38              65         0\n",
              "\n",
              "[227 rows x 3 columns]"
            ],
            "text/html": [
              "\n",
              "  <div id=\"df-73c4043f-bd9f-449a-a487-fcf4e99d7066\">\n",
              "    <div class=\"colab-df-container\">\n",
              "      <div>\n",
              "<style scoped>\n",
              "    .dataframe tbody tr th:only-of-type {\n",
              "        vertical-align: middle;\n",
              "    }\n",
              "\n",
              "    .dataframe tbody tr th {\n",
              "        vertical-align: top;\n",
              "    }\n",
              "\n",
              "    .dataframe thead th {\n",
              "        text-align: right;\n",
              "    }\n",
              "</style>\n",
              "<table border=\"1\" class=\"dataframe\">\n",
              "  <thead>\n",
              "    <tr style=\"text-align: right;\">\n",
              "      <th></th>\n",
              "      <th>Graduation Marks</th>\n",
              "      <th>Entrance Marks</th>\n",
              "      <th>clusters</th>\n",
              "    </tr>\n",
              "  </thead>\n",
              "  <tbody>\n",
              "    <tr>\n",
              "      <th>0</th>\n",
              "      <td>93.50</td>\n",
              "      <td>165</td>\n",
              "      <td>1</td>\n",
              "    </tr>\n",
              "    <tr>\n",
              "      <th>1</th>\n",
              "      <td>91.15</td>\n",
              "      <td>163</td>\n",
              "      <td>1</td>\n",
              "    </tr>\n",
              "    <tr>\n",
              "      <th>2</th>\n",
              "      <td>85.80</td>\n",
              "      <td>163</td>\n",
              "      <td>1</td>\n",
              "    </tr>\n",
              "    <tr>\n",
              "      <th>3</th>\n",
              "      <td>88.32</td>\n",
              "      <td>161</td>\n",
              "      <td>1</td>\n",
              "    </tr>\n",
              "    <tr>\n",
              "      <th>4</th>\n",
              "      <td>80.56</td>\n",
              "      <td>153</td>\n",
              "      <td>1</td>\n",
              "    </tr>\n",
              "    <tr>\n",
              "      <th>...</th>\n",
              "      <td>...</td>\n",
              "      <td>...</td>\n",
              "      <td>...</td>\n",
              "    </tr>\n",
              "    <tr>\n",
              "      <th>254</th>\n",
              "      <td>60.84</td>\n",
              "      <td>81</td>\n",
              "      <td>0</td>\n",
              "    </tr>\n",
              "    <tr>\n",
              "      <th>255</th>\n",
              "      <td>59.21</td>\n",
              "      <td>78</td>\n",
              "      <td>0</td>\n",
              "    </tr>\n",
              "    <tr>\n",
              "      <th>256</th>\n",
              "      <td>77.53</td>\n",
              "      <td>76</td>\n",
              "      <td>0</td>\n",
              "    </tr>\n",
              "    <tr>\n",
              "      <th>257</th>\n",
              "      <td>68.68</td>\n",
              "      <td>67</td>\n",
              "      <td>0</td>\n",
              "    </tr>\n",
              "    <tr>\n",
              "      <th>258</th>\n",
              "      <td>78.38</td>\n",
              "      <td>65</td>\n",
              "      <td>0</td>\n",
              "    </tr>\n",
              "  </tbody>\n",
              "</table>\n",
              "<p>227 rows × 3 columns</p>\n",
              "</div>\n",
              "      <button class=\"colab-df-convert\" onclick=\"convertToInteractive('df-73c4043f-bd9f-449a-a487-fcf4e99d7066')\"\n",
              "              title=\"Convert this dataframe to an interactive table.\"\n",
              "              style=\"display:none;\">\n",
              "        \n",
              "  <svg xmlns=\"http://www.w3.org/2000/svg\" height=\"24px\"viewBox=\"0 0 24 24\"\n",
              "       width=\"24px\">\n",
              "    <path d=\"M0 0h24v24H0V0z\" fill=\"none\"/>\n",
              "    <path d=\"M18.56 5.44l.94 2.06.94-2.06 2.06-.94-2.06-.94-.94-2.06-.94 2.06-2.06.94zm-11 1L8.5 8.5l.94-2.06 2.06-.94-2.06-.94L8.5 2.5l-.94 2.06-2.06.94zm10 10l.94 2.06.94-2.06 2.06-.94-2.06-.94-.94-2.06-.94 2.06-2.06.94z\"/><path d=\"M17.41 7.96l-1.37-1.37c-.4-.4-.92-.59-1.43-.59-.52 0-1.04.2-1.43.59L10.3 9.45l-7.72 7.72c-.78.78-.78 2.05 0 2.83L4 21.41c.39.39.9.59 1.41.59.51 0 1.02-.2 1.41-.59l7.78-7.78 2.81-2.81c.8-.78.8-2.07 0-2.86zM5.41 20L4 18.59l7.72-7.72 1.47 1.35L5.41 20z\"/>\n",
              "  </svg>\n",
              "      </button>\n",
              "      \n",
              "  <style>\n",
              "    .colab-df-container {\n",
              "      display:flex;\n",
              "      flex-wrap:wrap;\n",
              "      gap: 12px;\n",
              "    }\n",
              "\n",
              "    .colab-df-convert {\n",
              "      background-color: #E8F0FE;\n",
              "      border: none;\n",
              "      border-radius: 50%;\n",
              "      cursor: pointer;\n",
              "      display: none;\n",
              "      fill: #1967D2;\n",
              "      height: 32px;\n",
              "      padding: 0 0 0 0;\n",
              "      width: 32px;\n",
              "    }\n",
              "\n",
              "    .colab-df-convert:hover {\n",
              "      background-color: #E2EBFA;\n",
              "      box-shadow: 0px 1px 2px rgba(60, 64, 67, 0.3), 0px 1px 3px 1px rgba(60, 64, 67, 0.15);\n",
              "      fill: #174EA6;\n",
              "    }\n",
              "\n",
              "    [theme=dark] .colab-df-convert {\n",
              "      background-color: #3B4455;\n",
              "      fill: #D2E3FC;\n",
              "    }\n",
              "\n",
              "    [theme=dark] .colab-df-convert:hover {\n",
              "      background-color: #434B5C;\n",
              "      box-shadow: 0px 1px 3px 1px rgba(0, 0, 0, 0.15);\n",
              "      filter: drop-shadow(0px 1px 2px rgba(0, 0, 0, 0.3));\n",
              "      fill: #FFFFFF;\n",
              "    }\n",
              "  </style>\n",
              "\n",
              "      <script>\n",
              "        const buttonEl =\n",
              "          document.querySelector('#df-73c4043f-bd9f-449a-a487-fcf4e99d7066 button.colab-df-convert');\n",
              "        buttonEl.style.display =\n",
              "          google.colab.kernel.accessAllowed ? 'block' : 'none';\n",
              "\n",
              "        async function convertToInteractive(key) {\n",
              "          const element = document.querySelector('#df-73c4043f-bd9f-449a-a487-fcf4e99d7066');\n",
              "          const dataTable =\n",
              "            await google.colab.kernel.invokeFunction('convertToInteractive',\n",
              "                                                     [key], {});\n",
              "          if (!dataTable) return;\n",
              "\n",
              "          const docLinkHtml = 'Like what you see? Visit the ' +\n",
              "            '<a target=\"_blank\" href=https://colab.research.google.com/notebooks/data_table.ipynb>data table notebook</a>'\n",
              "            + ' to learn more about interactive tables.';\n",
              "          element.innerHTML = '';\n",
              "          dataTable['output_type'] = 'display_data';\n",
              "          await google.colab.output.renderOutput(dataTable, element);\n",
              "          const docLink = document.createElement('div');\n",
              "          docLink.innerHTML = docLinkHtml;\n",
              "          element.appendChild(docLink);\n",
              "        }\n",
              "      </script>\n",
              "    </div>\n",
              "  </div>\n",
              "  "
            ]
          },
          "metadata": {},
          "execution_count": 41
        }
      ]
    },
    {
      "cell_type": "code",
      "source": [
        "clusters_new['clusters'].unique()"
      ],
      "metadata": {
        "colab": {
          "base_uri": "https://localhost:8080/"
        },
        "id": "HFKxN-kJjd_T",
        "outputId": "2f0d43eb-ed77-4426-c8d4-f218e0d34ef8"
      },
      "execution_count": null,
      "outputs": [
        {
          "output_type": "execute_result",
          "data": {
            "text/plain": [
              "array([1, 2, 3, 0], dtype=int32)"
            ]
          },
          "metadata": {},
          "execution_count": 42
        }
      ]
    },
    {
      "cell_type": "code",
      "source": [
        "input_para=[]\n",
        "for k in x.columns:\n",
        "    s=input(\"Input \"+k+\" \")\n",
        "    input_para.append(float(s))\n",
        "print(input_para)\n",
        "input_para[0]=(input_para[0]-data['Graduation Marks'].mean())/data['Graduation Marks'].std()\n",
        "input_para[1]=(input_para[1]-data['Entrance Marks'].mean())/data['Entrance Marks'].std()\n",
        "print(kmeans_new.predict([input_para]))\n",
        "if (kmeans_new.predict([input_para])==0):\n",
        "  print(\"Not Selected this time. Better luck next time.\")\n",
        "elif (kmeans_new.predict([input_para])==1):\n",
        "  print(\"Congratulations! Selected for the course.\")\n",
        "elif(kmeans_new.predict([input_para])==2):\n",
        "  print(\"Congratulations! Selected for the next second exam.\")\n",
        "else:\n",
        "  print(\"Congratulations! Selected for the interview.\")\n",
        "\n"
      ],
      "metadata": {
        "colab": {
          "base_uri": "https://localhost:8080/"
        },
        "id": "wTlXGCTMfDRj",
        "outputId": "b2ef8bbb-285a-484c-d50f-153dd01a84ff"
      },
      "execution_count": null,
      "outputs": [
        {
          "output_type": "stream",
          "name": "stdout",
          "text": [
            "Input Graduation Marks 76\n",
            "Input Entrance Marks 135\n",
            "[76.0, 135.0]\n",
            "[1]\n",
            "Congratulations. Selected for the course.\n"
          ]
        }
      ]
    },
    {
      "cell_type": "code",
      "source": [],
      "metadata": {
        "id": "lXj6ylbTi4ZK"
      },
      "execution_count": null,
      "outputs": []
    }
  ]
}